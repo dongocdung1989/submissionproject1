{
 "cells": [
  {
   "cell_type": "code",
   "execution_count": 1,
   "metadata": {},
   "outputs": [],
   "source": [
    "! activate ai-azure-c1\n",
    "\n",
    "import sys\n",
    "\n",
    "sys.path.append(\"/opt/conda/envs/ai-azure-c1/lib/python3.8/site-packages\")\n",
    "\n",
    "import requests\n",
    "from urllib.parse import urlparse\n",
    "from io import BytesIO\n",
    "from PIL import Image, ImageDraw\n",
    "import matplotlib.pyplot as plt\n",
    "\n",
    "import os, time, uuid\n",
    "\n",
    "from azure.cognitiveservices.vision.customvision.training import CustomVisionTrainingClient\n",
    "from azure.cognitiveservices.vision.customvision.prediction import CustomVisionPredictionClient\n",
    "from azure.cognitiveservices.vision.customvision.training.models import ImageFileCreateBatch, ImageFileCreateEntry, Region\n",
    "from msrest.authentication import ApiKeyCredentials\n"
   ]
  },
  {
   "cell_type": "code",
   "execution_count": 2,
   "metadata": {},
   "outputs": [],
   "source": [
    "TRAINING_ENDPOINT = \"https://dungdocustomvision.cognitiveservices.azure.com/\"\n",
    "training_key = \"41877457e30e426a99e1c305205bfc22\"\n",
    "training_resource_id = '/subscriptions/21c53bc7-9f96-4753-9901-99cd641ad4e7/resourceGroups/ODL-AIND-195702/providers/Microsoft.CognitiveServices/accounts/dungdocustomvision'"
   ]
  },
  {
   "cell_type": "code",
   "execution_count": 3,
   "metadata": {},
   "outputs": [],
   "source": [
    "# Replace with valid values\n",
    "PREDICTION_ENDPOINT = \"https://dungdocustomvision-prediction.cognitiveservices.azure.com/\"\n",
    "prediction_key = \"bfd558bd968a4ee8ad3f7f09cb6cfd70\"\n",
    "prediction_resource_id = \"/subscriptions/21c53bc7-9f96-4753-9901-99cd641ad4e7/resourceGroups/ODL-AIND-195702/providers/Microsoft.CognitiveServices/accounts/dungdocustomvision-Prediction\""
   ]
  },
  {
   "cell_type": "code",
   "execution_count": 4,
   "metadata": {},
   "outputs": [],
   "source": [
    "training_credentials = ApiKeyCredentials(in_headers={\"Training-key\": training_key})\n",
    "trainer = CustomVisionTrainingClient(TRAINING_ENDPOINT, training_credentials)"
   ]
  },
  {
   "cell_type": "code",
   "execution_count": 5,
   "metadata": {},
   "outputs": [
    {
     "data": {
      "text/plain": [
       "'3.4-preview'"
      ]
     },
     "execution_count": 5,
     "metadata": {},
     "output_type": "execute_result"
    }
   ],
   "source": [
    "trainer.api_version"
   ]
  },
  {
   "cell_type": "code",
   "execution_count": 6,
   "metadata": {
    "scrolled": false
   },
   "outputs": [
    {
     "name": "stdout",
     "output_type": "stream",
     "text": [
      "Training project created. Proceed to the next cell.\n"
     ]
    }
   ],
   "source": [
    "# Create a new project\n",
    "print (\"Training project created. Proceed to the next cell.\")\n",
    "project_name = uuid.uuid4()\n",
    "project = trainer.create_project(project_name)"
   ]
  },
  {
   "cell_type": "code",
   "execution_count": 7,
   "metadata": {},
   "outputs": [
    {
     "data": {
      "text/plain": [
       "{'id': 'f49b5169-1790-4bb0-998c-8f4ab18bd9b6',\n",
       " 'name': '806d446e-8cba-4cd8-9352-d80107d908ff',\n",
       " 'description': '',\n",
       " 'settings': {'domain_id': 'ee85a74c-405e-4adc-bb47-ffa8ca0c9f31',\n",
       "  'classification_type': 'Multilabel',\n",
       "  'target_export_platforms': [],\n",
       "  'use_negative_set': True,\n",
       "  'image_processing_settings': {'augmentation_methods': {'rotation': True,\n",
       "    'scaling': True,\n",
       "    'translation': True,\n",
       "    'horizontal flip': True,\n",
       "    'equalize': True,\n",
       "    'solarize': True,\n",
       "    'padtosquare': True}}},\n",
       " 'created': '2022-05-24T08:40:09.956Z',\n",
       " 'last_modified': '2022-05-24T08:40:09.956Z',\n",
       " 'dr_mode_enabled': False,\n",
       " 'status': 'Succeeded'}"
      ]
     },
     "execution_count": 7,
     "metadata": {},
     "output_type": "execute_result"
    }
   ],
   "source": [
    "project.as_dict()"
   ]
  },
  {
   "cell_type": "code",
   "execution_count": 8,
   "metadata": {},
   "outputs": [],
   "source": [
    "lighter_check = trainer.create_tag(project.id, \"LighterChecking\")"
   ]
  },
  {
   "cell_type": "code",
   "execution_count": 9,
   "metadata": {},
   "outputs": [],
   "source": [
    "local_image_path = '/home/workspace/ImageToTrain'"
   ]
  },
  {
   "cell_type": "code",
   "execution_count": 10,
   "metadata": {},
   "outputs": [],
   "source": [
    "# Some code is taken from Azure SDK Sample\n",
    "def upload_images_for_training(local_project_id, local_img_folder_name, image_tag_id):\n",
    "    image_list = []\n",
    "    files = os.listdir(os.path.join (local_image_path, local_img_folder_name))\n",
    "    for file in files:\n",
    "        full_path = os.path.join(local_image_path, local_img_folder_name, file)\n",
    "        if os.path.isfile(full_path) and full_path.endswith('.jpg'):\n",
    "            with open(os.path.join (local_image_path, local_img_folder_name, file), \"rb\") as image_contents:\n",
    "                image_list.append(ImageFileCreateEntry(name=file, contents=image_contents.read(), tag_ids=[image_tag_id]))\n",
    "                \n",
    "    upload_result = trainer.create_images_from_files(local_project_id, ImageFileCreateBatch(images=image_list))\n",
    "    if not upload_result.is_batch_successful:\n",
    "        print(\"Image batch upload failed.\")\n",
    "        for image in upload_result.images:\n",
    "            print(\"Image status: \", image.status)\n",
    "        exit(-1)\n",
    "    return upload_result"
   ]
  },
  {
   "cell_type": "code",
   "execution_count": 11,
   "metadata": {},
   "outputs": [],
   "source": [
    "lighter_upload_result = upload_images_for_training(project.id, 'lighter_folder', lighter_check.id)"
   ]
  },
  {
   "cell_type": "code",
   "execution_count": 12,
   "metadata": {},
   "outputs": [
    {
     "data": {
      "text/plain": [
       "True"
      ]
     },
     "execution_count": 12,
     "metadata": {},
     "output_type": "execute_result"
    }
   ],
   "source": [
    "lighter_upload_result.is_batch_successful"
   ]
  },
  {
   "cell_type": "code",
   "execution_count": 13,
   "metadata": {},
   "outputs": [
    {
     "name": "stdout",
     "output_type": "stream",
     "text": [
      "Training status: Training\n",
      "Waiting 10 seconds...\n",
      "Training status: Training\n",
      "Waiting 10 seconds...\n",
      "Training status: Training\n",
      "Waiting 10 seconds...\n",
      "Training status: Training\n",
      "Waiting 10 seconds...\n",
      "Training status: Training\n",
      "Waiting 10 seconds...\n",
      "Training status: Training\n",
      "Waiting 10 seconds...\n",
      "Training status: Training\n",
      "Waiting 10 seconds...\n",
      "Training status: Training\n",
      "Waiting 10 seconds...\n",
      "Training status: Training\n",
      "Waiting 10 seconds...\n",
      "Training status: Training\n",
      "Waiting 10 seconds...\n",
      "Training status: Training\n",
      "Waiting 10 seconds...\n",
      "Training status: Training\n",
      "Waiting 10 seconds...\n",
      "Training status: Training\n",
      "Waiting 10 seconds...\n",
      "Training status: Training\n",
      "Waiting 10 seconds...\n",
      "Training status: Training\n",
      "Waiting 10 seconds...\n",
      "Training status: Training\n",
      "Waiting 10 seconds...\n",
      "Training status: Training\n",
      "Waiting 10 seconds...\n",
      "Training status: Training\n",
      "Waiting 10 seconds...\n",
      "Training status: Training\n",
      "Waiting 10 seconds...\n",
      "Training status: Training\n",
      "Waiting 10 seconds...\n",
      "Training status: Training\n",
      "Waiting 10 seconds...\n",
      "Training status: Training\n",
      "Waiting 10 seconds...\n",
      "Training status: Completed\n",
      "Waiting 10 seconds...\n"
     ]
    }
   ],
   "source": [
    "iteration = trainer.train_project(project.id)\n",
    "while (iteration.status != \"Completed\"):\n",
    "    iteration = trainer.get_iteration(project.id, iteration.id)\n",
    "    print (\"Training status: \" + iteration.status)\n",
    "    print (\"Waiting 10 seconds...\")\n",
    "    time.sleep(10)"
   ]
  },
  {
   "cell_type": "code",
   "execution_count": 14,
   "metadata": {},
   "outputs": [
    {
     "name": "stdout",
     "output_type": "stream",
     "text": [
      "{'additional_properties': {}, 'id': '627b2cce-0aaa-4b7a-870a-1a38051b1fd4', 'name': 'Iteration 1', 'status': 'Completed', 'created': datetime.datetime(2022, 5, 24, 8, 40, 9, 956000, tzinfo=<isodate.tzinfo.Utc object at 0x7fa96b6a3f60>), 'last_modified': datetime.datetime(2022, 5, 24, 8, 43, 56, 656000, tzinfo=<isodate.tzinfo.Utc object at 0x7fa96b6a3f60>), 'trained_at': datetime.datetime(2022, 5, 24, 8, 43, 56, 631000, tzinfo=<isodate.tzinfo.Utc object at 0x7fa96b6a3f60>), 'project_id': 'f49b5169-1790-4bb0-998c-8f4ab18bd9b6', 'exportable': False, 'exportable_to': None, 'domain_id': 'ee85a74c-405e-4adc-bb47-ffa8ca0c9f31', 'classification_type': 'Multilabel', 'training_type': 'Regular', 'reserved_budget_in_hours': 0, 'training_time_in_minutes': 1, 'publish_name': None, 'original_publish_resource_id': None, 'custom_base_model_info': None, 'training_error_details': None}\n"
     ]
    },
    {
     "data": {
      "text/plain": [
       "{'per_tag_performance': [{'id': '3ad748a8-c9ab-4507-9bb2-e6ebbec18a37',\n",
       "   'name': 'LighterChecking',\n",
       "   'precision': 1.0,\n",
       "   'precision_std_deviation': 0.0,\n",
       "   'recall': 1.0,\n",
       "   'recall_std_deviation': 0.0,\n",
       "   'average_precision': 1.0}],\n",
       " 'precision': 1.0,\n",
       " 'precision_std_deviation': 0.0,\n",
       " 'recall': 1.0,\n",
       " 'recall_std_deviation': 0.0,\n",
       " 'average_precision': 1.0}"
      ]
     },
     "execution_count": 14,
     "metadata": {},
     "output_type": "execute_result"
    }
   ],
   "source": [
    "iteration.as_dict()\n",
    "\n",
    "iteration_list = trainer.get_iterations(project.id)\n",
    "for iteration_item in iteration_list:\n",
    "    print(iteration_item)\n",
    "    \n",
    "model_perf = trainer.get_iteration_performance(project.id, iteration_list[0].id)\n",
    "\n",
    "model_perf.as_dict()"
   ]
  },
  {
   "cell_type": "code",
   "execution_count": 15,
   "metadata": {},
   "outputs": [],
   "source": [
    "# Setting the Iteration Name, this will be used when Model training is completed\n",
    "# Please choose a name favorable to you.\n",
    "publish_iteration_name = \"lighter-check\""
   ]
  },
  {
   "cell_type": "code",
   "execution_count": 16,
   "metadata": {},
   "outputs": [
    {
     "name": "stdout",
     "output_type": "stream",
     "text": [
      "Done!\n"
     ]
    }
   ],
   "source": [
    "# The iteration is now trained. Publish it to the project endpoint\n",
    "trainer.publish_iteration(project.id, iteration.id, publish_iteration_name, prediction_resource_id)\n",
    "print (\"Done!\")"
   ]
  },
  {
   "cell_type": "code",
   "execution_count": null,
   "metadata": {},
   "outputs": [],
   "source": []
  }
 ],
 "metadata": {
  "kernelspec": {
   "display_name": "Python 3",
   "language": "python",
   "name": "python3"
  },
  "language_info": {
   "codemirror_mode": {
    "name": "ipython",
    "version": 3
   },
   "file_extension": ".py",
   "mimetype": "text/x-python",
   "name": "python",
   "nbconvert_exporter": "python",
   "pygments_lexer": "ipython3",
   "version": "3.6.3"
  }
 },
 "nbformat": 4,
 "nbformat_minor": 2
}
